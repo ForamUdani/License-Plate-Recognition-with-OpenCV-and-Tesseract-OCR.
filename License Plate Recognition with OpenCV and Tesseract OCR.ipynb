{
 "cells": [
  {
   "cell_type": "code",
   "execution_count": 1,
   "id": "157aba11",
   "metadata": {},
   "outputs": [],
   "source": [
    "#dataset used: https://www.kaggle.com/datasets/nickyazdani/license-plate-text-recognition-dataset"
   ]
  },
  {
   "cell_type": "code",
   "execution_count": null,
   "id": "b5ee5066",
   "metadata": {},
   "outputs": [],
   "source": [
    "# Loading the required python modules \n",
    "import pytesseract # this is tesseract module \n",
    "import matplotlib.pyplot as plt \n",
    "import cv2 # this is opencv module \n",
    "import glob \n",
    "import os"
   ]
  },
  {
   "cell_type": "code",
   "execution_count": 3,
   "id": "77980e21",
   "metadata": {},
   "outputs": [],
   "source": [
    "# specify path to the license plate images folder as shown below \n",
    "path_for_license_plates = os.getcwd() + \"/license-plates/**/*.jpg\"\n",
    "list_license_plates = [] \n",
    "predicted_license_plates = [] \n",
    "\n",
    "for path_to_license_plate in glob.glob(path_for_license_plates, recursive = True): \n",
    "\n",
    "    license_plate_file = path_to_license_plate.split(\"/\")[-1] \n",
    "    license_plate, _ = os.path.splitext(license_plate_file) \n",
    "    ''' \n",
    "    Here we append the actual license plate to a list \n",
    "    '''\n",
    "    list_license_plates.append(license_plate) \n",
    "    \n",
    "    ''' \n",
    "    Read each license plate image file using openCV \n",
    "    '''\n",
    "    img = cv2.imread(path_to_license_plate) \n",
    "    \n",
    "    ''' \n",
    "    We then pass each license plate image file \n",
    "    to the Tesseract OCR engine using the Python library \n",
    "    wrapper for it. We get back predicted_result for \n",
    "    license plate. We append the predicted_result in a \n",
    "    list and compare it with the original the license plate \n",
    "    '''\n",
    "    predicted_result = pytesseract.image_to_string(img, lang ='eng', \n",
    "    config ='--oem 3 --psm 6 -c tessedit_char_whitelist = ABCDEFGHIJKLMNOPQRSTUVWXYZ0123456789') \n",
    "    \n",
    "    filter_predicted_result = \"\".join(predicted_result.split()).replace(\":\", \"\").replace(\"-\", \"\") \n",
    "    predicted_license_plates.append(filter_predicted_result) \n"
   ]
  },
  {
   "cell_type": "code",
   "execution_count": 4,
   "id": "caa58c30",
   "metadata": {},
   "outputs": [
    {
     "name": "stdout",
     "output_type": "stream",
     "text": [
      "Actual License Plate \t Predicted License Plate \t Accuracy\n",
      "-------------------- \t ----------------------- \t --------\n"
     ]
    }
   ],
   "source": [
    "print(\"Actual License Plate\", \"\\t\", \"Predicted License Plate\", \"\\t\", \"Accuracy\") \n",
    "print(\"--------------------\", \"\\t\", \"-----------------------\", \"\\t\", \"--------\") \n",
    "\n",
    "def calculate_predicted_accuracy(actual_list, predicted_list): \n",
    "    for actual_plate, predict_plate in zip(actual_list, predicted_list): \n",
    "        accuracy = \"0 %\"\n",
    "        num_matches = 0\n",
    "        if actual_plate == predict_plate: \n",
    "            accuracy = \"100 %\"\n",
    "        else: \n",
    "            if len(actual_plate) == len(predict_plate): \n",
    "                for a, p in zip(actual_plate, predict_plate): \n",
    "                    if a == p: \n",
    "                        num_matches += 1\n",
    "                accuracy = str(round((num_matches / len(actual_plate)), 2) * 100) \n",
    "                accuracy += \"%\"\n",
    "        print(\"\t \", actual_plate, \"\\t\\t\\t\", predict_plate, \"\\t\\t \", accuracy) \n",
    "\n",
    "        \n",
    "calculate_predicted_accuracy(list_license_plates, predicted_license_plates)\n"
   ]
  },
  {
   "cell_type": "code",
   "execution_count": null,
   "id": "01d2637f",
   "metadata": {},
   "outputs": [],
   "source": [
    "# Read the license plate file and display it \n",
    "test_license_plate = cv2.imread(os.getcwd() + \"/license-plates / GWT2180.jpg\") \n",
    "plt.imshow(test_license_plate) \n",
    "plt.axis('off') \n",
    "plt.title('GWT2180 license plate')"
   ]
  },
  {
   "cell_type": "code",
   "execution_count": null,
   "id": "2ecfdb94",
   "metadata": {},
   "outputs": [],
   "source": [
    "resize_test_license_plate = cv2.resize( \n",
    "    test_license_plate, None, fx = 2, fy = 2, \n",
    "    interpolation = cv2.INTER_CUBIC)"
   ]
  },
  {
   "cell_type": "code",
   "execution_count": null,
   "id": "1e4b01c5",
   "metadata": {},
   "outputs": [],
   "source": [
    "grayscale_resize_test_license_plate = cv2.cvtColor( \n",
    "    resize_test_license_plate, cv2.COLOR_BGR2GRAY) \n"
   ]
  },
  {
   "cell_type": "code",
   "execution_count": null,
   "id": "eb21f766",
   "metadata": {},
   "outputs": [],
   "source": [
    "gaussian_blur_license_plate = cv2.GaussianBlur( \n",
    "    grayscale_resize_test_license_plate, (5, 5), 0) \n"
   ]
  },
  {
   "cell_type": "code",
   "execution_count": null,
   "id": "c0621241",
   "metadata": {},
   "outputs": [],
   "source": [
    "new_predicted_result_GWT2180 = pytesseract.image_to_string(gaussian_blur_license_plate, lang ='eng', \n",
    "config ='--oem 3 -l eng --psm 6 -c tessedit_char_whitelist = ABCDEFGHIJKLMNOPQRSTUVWXYZ0123456789') \n",
    "filter_new_predicted_result_GWT2180 = \"\".join(new_predicted_result_GWT2180.split()).replace(\":\", \"\").replace(\"-\", \"\") \n",
    "print(filter_new_predicted_result_GWT2180)"
   ]
  },
  {
   "cell_type": "code",
   "execution_count": null,
   "id": "444a1c58",
   "metadata": {},
   "outputs": [],
   "source": []
  }
 ],
 "metadata": {
  "kernelspec": {
   "display_name": "Python 3 (ipykernel)",
   "language": "python",
   "name": "python3"
  },
  "language_info": {
   "codemirror_mode": {
    "name": "ipython",
    "version": 3
   },
   "file_extension": ".py",
   "mimetype": "text/x-python",
   "name": "python",
   "nbconvert_exporter": "python",
   "pygments_lexer": "ipython3",
   "version": "3.9.13"
  }
 },
 "nbformat": 4,
 "nbformat_minor": 5
}
